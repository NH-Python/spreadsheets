{
 "cells": [
  {
   "cell_type": "markdown",
   "metadata": {},
   "source": [
    "# Working with CSV Files in Python\n",
    "\n",
    "- A CSV (Comma-Separated Value) file is a common plain-text format for tabular data\n",
    "    - Uses the `.csv` extension\n",
    "    - Part of a larger family of \"delimiter-separated\" value formats\n",
    "- The general format is considered a \"flat file\" (the data is 2-dimensional) with fields (or columns) going across the top and records (or rows) running down. Values for each field for a given record are separated by a delimiter\n",
    "    - Similar to spreadsheets or database tables\n",
    "- Delimiters don't have to be commas - other examples include:\n",
    "    - Tabs (saved as a Tab-Separated Value format using the `.tsv` extension)\n",
    "    - Semicolons\n",
    "    - Colons\n",
    "    - Even the pipe character (`|`)\n",
    "- If a field contains the delimiter as part of a value, it must be escaped\n",
    "- Because the file format is so ubiquitous, there's a lot of support with different feature sets for working with CSV (and similar) files"
   ]
  },
  {
   "cell_type": "markdown",
   "metadata": {},
   "source": [
    "## Examples Using `csv` Module\n",
    "\n",
    "- Python has a built-in Standard Library `csv` module, no need to install third-party packages\n",
    "- Good for basic use cases to work with data programmatically\n",
    "- One caveat: no type conversion on import - all values are strings"
   ]
  },
  {
   "cell_type": "code",
   "execution_count": 128,
   "metadata": {},
   "outputs": [
    {
     "name": "stdout",
     "output_type": "stream",
     "text": [
      "['Name', 'Director', 'Stars', 'Year', 'Runtime'] 5\n",
      "['Night of the Living Dead', 'George A. Romero', \"Duane Jones, Judith O'Dea, Karl Hardman\", '1968', '96'] 5\n",
      "['The Exorcist', 'William Friedkin', 'Linda Blair', '1973', '122'] 5\n",
      "['The Rocky Horror Picture Show', 'Jim Sharman', 'Tim Curry, Susan Sarandon', '1975', '100'] 5\n",
      "['The Shining', 'Stanley Kubrick', 'Jack Nicholson, Shelley Duvall, Danny Lloyd', '1980', '126'] 5\n",
      "['Predator', 'John McTiernan', 'Arnold Schwarzenegger, Carl Weathers, Kevin Peter Hall', '1987', '107'] 5\n",
      "['Pet Sematary', 'Mary Lambert', 'Dale Midkiff, Denise Crosby, Fred Gwynne', '1989', '103'] 5\n",
      "['Friday the 13th', 'Sean S. Cunningham', 'Betsy Palmer, Adrienne King, Jeannine Taylor', '1980', '95'] 5\n",
      "['Poltergeist', 'Tobe Hooper', \"JoBeth Williams, Heather O'Rourke, Craig T. Nelson\", '1982', '114'] 5\n"
     ]
    }
   ],
   "source": [
    "import csv\n",
    "\n",
    "file_path = './csv_example_files/csv_movies.csv'\n",
    "\n",
    "# Reading a CSV file: quote character isn't \" or '\n",
    "with open(file_path, newline='') as csvfile:\n",
    "    csv_reader = csv.reader(csvfile, quotechar=';')\n",
    "\n",
    "    for row in csv_reader:\n",
    "        print(row, len(row))\n",
    "#         print(', '.join(row))"
   ]
  },
  {
   "cell_type": "code",
   "execution_count": 130,
   "metadata": {},
   "outputs": [
    {
     "data": {
      "text/plain": [
       "['Runtime', '96', '122', '100', '126', '107', '103', '95', '114']"
      ]
     },
     "execution_count": 130,
     "metadata": {},
     "output_type": "execute_result"
    }
   ],
   "source": [
    "runtimes = []\n",
    "\n",
    "# Collect Runtimes in a list\n",
    "with open(file_path, newline='') as csvfile:\n",
    "    csv_reader = csv.reader(csvfile, quotechar=';')    \n",
    "\n",
    "    for row in csv_reader:\n",
    "        runtimes.append(row[-1])\n",
    "\n",
    "runtimes"
   ]
  },
  {
   "cell_type": "code",
   "execution_count": 131,
   "metadata": {},
   "outputs": [
    {
     "data": {
      "text/plain": [
       "['100', '103', '107', '114', '122', '126', '95', '96']"
      ]
     },
     "execution_count": 131,
     "metadata": {},
     "output_type": "execute_result"
    }
   ],
   "source": [
    "# Sort runtime values without converting data types\n",
    "sorted(runtimes[1:])"
   ]
  },
  {
   "cell_type": "code",
   "execution_count": 132,
   "metadata": {},
   "outputs": [],
   "source": [
    "# Scary code example in the 'spirit' of Halloween\n",
    "# Writing an \"ESV\" (Emoji-Separated Value) file\n",
    "with open('./csv_example_files/csv_spookyszn.esv', 'w', newline='') as csvfile:\n",
    "    csv_writer = csv.writer(csvfile,\n",
    "                            delimiter='🎃',\n",
    "                            quotechar=';')\n",
    "    csv_writer.writerow(['Spookster', 'Abode', 'Catch phrase'])\n",
    "    csv_writer.writerow(['Ghost', 'Haunted House', 'Boo'])\n",
    "    csv_writer.writerow(['Witch', 'Enchanted Forest', 'Double double toil and trouble'])\n",
    "    csv_writer.writerow(['Troll', 'Bridge', 'Answer a riddle or pay the toll'])"
   ]
  },
  {
   "cell_type": "markdown",
   "metadata": {},
   "source": [
    "The `csv` module also has `DictReader` and `DictWriter` classes to read or write data to or from a dictionary structure."
   ]
  },
  {
   "cell_type": "code",
   "execution_count": 138,
   "metadata": {},
   "outputs": [
    {
     "name": "stdout",
     "output_type": "stream",
     "text": [
      "OrderedDict([('Name', 'Night of the Living Dead'), ('Director', 'George A. Romero'), ('Stars', \"Duane Jones, Judith O'Dea, Karl Hardman\"), ('Year', '1968'), ('Runtime', '96')]) \n",
      "\n",
      "OrderedDict([('Name', 'The Exorcist'), ('Director', 'William Friedkin'), ('Stars', 'Linda Blair'), ('Year', '1973'), ('Runtime', '122')]) \n",
      "\n",
      "OrderedDict([('Name', 'The Rocky Horror Picture Show'), ('Director', 'Jim Sharman'), ('Stars', 'Tim Curry, Susan Sarandon'), ('Year', '1975'), ('Runtime', '100')]) \n",
      "\n",
      "OrderedDict([('Name', 'The Shining'), ('Director', 'Stanley Kubrick'), ('Stars', 'Jack Nicholson, Shelley Duvall, Danny Lloyd'), ('Year', '1980'), ('Runtime', '126')]) \n",
      "\n",
      "OrderedDict([('Name', 'Predator'), ('Director', 'John McTiernan'), ('Stars', 'Arnold Schwarzenegger, Carl Weathers, Kevin Peter Hall'), ('Year', '1987'), ('Runtime', '107')]) \n",
      "\n",
      "OrderedDict([('Name', 'Pet Sematary'), ('Director', 'Mary Lambert'), ('Stars', 'Dale Midkiff, Denise Crosby, Fred Gwynne'), ('Year', '1989'), ('Runtime', '103')]) \n",
      "\n",
      "OrderedDict([('Name', 'Friday the 13th'), ('Director', 'Sean S. Cunningham'), ('Stars', 'Betsy Palmer, Adrienne King, Jeannine Taylor'), ('Year', '1980'), ('Runtime', '95')]) \n",
      "\n",
      "OrderedDict([('Name', 'Poltergeist'), ('Director', 'Tobe Hooper'), ('Stars', \"JoBeth Williams, Heather O'Rourke, Craig T. Nelson\"), ('Year', '1982'), ('Runtime', '114')]) \n",
      "\n"
     ]
    }
   ],
   "source": [
    "# Open a CSV format as an OrderedDict\n",
    "with open(file_path) as csvfile:\n",
    "    reader = csv.DictReader(csvfile, quotechar=';')\n",
    "    for row in reader:\n",
    "        print(row, '\\n')"
   ]
  },
  {
   "cell_type": "markdown",
   "metadata": {},
   "source": [
    "## Example Using `pandas` Library\n",
    "\n",
    "- External library that needs to be installed\n",
    "- Extensive support for importing and exporting different file formats\n",
    "- Automatic type conversion on import\n",
    "- Offers a `chunksize` parameter to process large datasets in batches"
   ]
  },
  {
   "cell_type": "code",
   "execution_count": 124,
   "metadata": {},
   "outputs": [],
   "source": [
    "import pandas as pd\n",
    "\n",
    "pd.read_csv?"
   ]
  },
  {
   "cell_type": "code",
   "execution_count": 139,
   "metadata": {},
   "outputs": [
    {
     "data": {
      "text/html": [
       "<div>\n",
       "<style scoped>\n",
       "    .dataframe tbody tr th:only-of-type {\n",
       "        vertical-align: middle;\n",
       "    }\n",
       "\n",
       "    .dataframe tbody tr th {\n",
       "        vertical-align: top;\n",
       "    }\n",
       "\n",
       "    .dataframe thead th {\n",
       "        text-align: right;\n",
       "    }\n",
       "</style>\n",
       "<table border=\"1\" class=\"dataframe\">\n",
       "  <thead>\n",
       "    <tr style=\"text-align: right;\">\n",
       "      <th></th>\n",
       "      <th>Director</th>\n",
       "      <th>Stars</th>\n",
       "      <th>Year</th>\n",
       "      <th>Runtime</th>\n",
       "    </tr>\n",
       "    <tr>\n",
       "      <th>Name</th>\n",
       "      <th></th>\n",
       "      <th></th>\n",
       "      <th></th>\n",
       "      <th></th>\n",
       "    </tr>\n",
       "  </thead>\n",
       "  <tbody>\n",
       "    <tr>\n",
       "      <th>Night of the Living Dead</th>\n",
       "      <td>George A. Romero</td>\n",
       "      <td>Duane Jones, Judith O'Dea, Karl Hardman</td>\n",
       "      <td>1968</td>\n",
       "      <td>96</td>\n",
       "    </tr>\n",
       "    <tr>\n",
       "      <th>The Exorcist</th>\n",
       "      <td>William Friedkin</td>\n",
       "      <td>Linda Blair</td>\n",
       "      <td>1973</td>\n",
       "      <td>122</td>\n",
       "    </tr>\n",
       "    <tr>\n",
       "      <th>The Rocky Horror Picture Show</th>\n",
       "      <td>Jim Sharman</td>\n",
       "      <td>Tim Curry, Susan Sarandon</td>\n",
       "      <td>1975</td>\n",
       "      <td>100</td>\n",
       "    </tr>\n",
       "    <tr>\n",
       "      <th>The Shining</th>\n",
       "      <td>Stanley Kubrick</td>\n",
       "      <td>Jack Nicholson, Shelley Duvall, Danny Lloyd</td>\n",
       "      <td>1980</td>\n",
       "      <td>126</td>\n",
       "    </tr>\n",
       "    <tr>\n",
       "      <th>Predator</th>\n",
       "      <td>John McTiernan</td>\n",
       "      <td>Arnold Schwarzenegger, Carl Weathers, Kevin Pe...</td>\n",
       "      <td>1987</td>\n",
       "      <td>107</td>\n",
       "    </tr>\n",
       "    <tr>\n",
       "      <th>Pet Sematary</th>\n",
       "      <td>Mary Lambert</td>\n",
       "      <td>Dale Midkiff, Denise Crosby, Fred Gwynne</td>\n",
       "      <td>1989</td>\n",
       "      <td>103</td>\n",
       "    </tr>\n",
       "    <tr>\n",
       "      <th>Friday the 13th</th>\n",
       "      <td>Sean S. Cunningham</td>\n",
       "      <td>Betsy Palmer, Adrienne King, Jeannine Taylor</td>\n",
       "      <td>1980</td>\n",
       "      <td>95</td>\n",
       "    </tr>\n",
       "    <tr>\n",
       "      <th>Poltergeist</th>\n",
       "      <td>Tobe Hooper</td>\n",
       "      <td>JoBeth Williams, Heather O'Rourke, Craig T. Ne...</td>\n",
       "      <td>1982</td>\n",
       "      <td>114</td>\n",
       "    </tr>\n",
       "  </tbody>\n",
       "</table>\n",
       "</div>"
      ],
      "text/plain": [
       "                                         Director  \\\n",
       "Name                                                \n",
       "Night of the Living Dead         George A. Romero   \n",
       "The Exorcist                     William Friedkin   \n",
       "The Rocky Horror Picture Show         Jim Sharman   \n",
       "The Shining                       Stanley Kubrick   \n",
       "Predator                           John McTiernan   \n",
       "Pet Sematary                         Mary Lambert   \n",
       "Friday the 13th                Sean S. Cunningham   \n",
       "Poltergeist                           Tobe Hooper   \n",
       "\n",
       "                                                                           Stars  \\\n",
       "Name                                                                               \n",
       "Night of the Living Dead                 Duane Jones, Judith O'Dea, Karl Hardman   \n",
       "The Exorcist                                                         Linda Blair   \n",
       "The Rocky Horror Picture Show                          Tim Curry, Susan Sarandon   \n",
       "The Shining                          Jack Nicholson, Shelley Duvall, Danny Lloyd   \n",
       "Predator                       Arnold Schwarzenegger, Carl Weathers, Kevin Pe...   \n",
       "Pet Sematary                            Dale Midkiff, Denise Crosby, Fred Gwynne   \n",
       "Friday the 13th                     Betsy Palmer, Adrienne King, Jeannine Taylor   \n",
       "Poltergeist                    JoBeth Williams, Heather O'Rourke, Craig T. Ne...   \n",
       "\n",
       "                               Year  Runtime  \n",
       "Name                                          \n",
       "Night of the Living Dead       1968       96  \n",
       "The Exorcist                   1973      122  \n",
       "The Rocky Horror Picture Show  1975      100  \n",
       "The Shining                    1980      126  \n",
       "Predator                       1987      107  \n",
       "Pet Sematary                   1989      103  \n",
       "Friday the 13th                1980       95  \n",
       "Poltergeist                    1982      114  "
      ]
     },
     "execution_count": 139,
     "metadata": {},
     "output_type": "execute_result"
    }
   ],
   "source": [
    "# Import a CSV file into a DataFrame\n",
    "df = pd.read_csv(file_path, quotechar=';', index_col=\"Name\")\n",
    "df"
   ]
  },
  {
   "cell_type": "code",
   "execution_count": 140,
   "metadata": {},
   "outputs": [
    {
     "name": "stdout",
     "output_type": "stream",
     "text": [
      "<class 'pandas.core.frame.DataFrame'>\n",
      "Index: 8 entries, Night of the Living Dead to Poltergeist\n",
      "Data columns (total 4 columns):\n",
      "Director    8 non-null object\n",
      "Stars       8 non-null object\n",
      "Year        8 non-null int64\n",
      "Runtime     8 non-null int64\n",
      "dtypes: int64(2), object(2)\n",
      "memory usage: 320.0+ bytes\n"
     ]
    }
   ],
   "source": [
    "df.info()"
   ]
  },
  {
   "cell_type": "code",
   "execution_count": 141,
   "metadata": {},
   "outputs": [
    {
     "name": "stdout",
     "output_type": "stream",
     "text": [
      "                            Name          Director  \\\n",
      "0       Night of the Living Dead  George A. Romero   \n",
      "1                   The Exorcist  William Friedkin   \n",
      "2  The Rocky Horror Picture Show       Jim Sharman   \n",
      "3                    The Shining   Stanley Kubrick   \n",
      "\n",
      "                                         Stars  Year  Runtime  \n",
      "0      Duane Jones, Judith O'Dea, Karl Hardman  1968       96  \n",
      "1                                  Linda Blair  1973      122  \n",
      "2                    Tim Curry, Susan Sarandon  1975      100  \n",
      "3  Jack Nicholson, Shelley Duvall, Danny Lloyd  1980      126  \n",
      "              Name            Director  \\\n",
      "4         Predator      John McTiernan   \n",
      "5     Pet Sematary        Mary Lambert   \n",
      "6  Friday the 13th  Sean S. Cunningham   \n",
      "7      Poltergeist         Tobe Hooper   \n",
      "\n",
      "                                               Stars  Year  Runtime  \n",
      "4  Arnold Schwarzenegger, Carl Weathers, Kevin Pe...  1987      107  \n",
      "5           Dale Midkiff, Denise Crosby, Fred Gwynne  1989      103  \n",
      "6       Betsy Palmer, Adrienne King, Jeannine Taylor  1980       95  \n",
      "7  JoBeth Williams, Heather O'Rourke, Craig T. Ne...  1982      114  \n"
     ]
    }
   ],
   "source": [
    "# Use chunksize for large datasets\n",
    "size = 4\n",
    "reader = pd.read_csv(file_path, quotechar=';', chunksize=size)\n",
    "for i, chunk in enumerate(reader):\n",
    "    # process data, etc.\n",
    "    print(chunk)\n",
    "    \n",
    "    header = True\n",
    "    if i > 0:\n",
    "        header = False\n",
    "    \n",
    "    # Use append mode, otherwise every iteration of a chunk\n",
    "    # will write over the last one\n",
    "    chunk.to_csv('./csv_example_files/csv_pd_chunk.csv',\n",
    "                 index=False,\n",
    "                 header=header,\n",
    "                 quotechar=';',\n",
    "                 mode='a')"
   ]
  },
  {
   "cell_type": "code",
   "execution_count": 142,
   "metadata": {},
   "outputs": [],
   "source": [
    "df.to_json('./csv_example_files/csv_pd_to_json.json', orient='index')"
   ]
  },
  {
   "cell_type": "code",
   "execution_count": 146,
   "metadata": {},
   "outputs": [
    {
     "data": {
      "text/html": [
       "<div>\n",
       "<style scoped>\n",
       "    .dataframe tbody tr th:only-of-type {\n",
       "        vertical-align: middle;\n",
       "    }\n",
       "\n",
       "    .dataframe tbody tr th {\n",
       "        vertical-align: top;\n",
       "    }\n",
       "\n",
       "    .dataframe thead th {\n",
       "        text-align: right;\n",
       "    }\n",
       "</style>\n",
       "<table border=\"1\" class=\"dataframe\">\n",
       "  <thead>\n",
       "    <tr style=\"text-align: right;\">\n",
       "      <th></th>\n",
       "      <th>Paid Fishing License Holders</th>\n",
       "      <th>Resident Fishing Licenses</th>\n",
       "      <th>Non-Resident Fishing Licenses</th>\n",
       "      <th>Total Fishing Licenses</th>\n",
       "      <th>Cost - Resident Fishing Licenses</th>\n",
       "      <th>Cost - Non-Resident Fishing Licenses</th>\n",
       "      <th>Total Cost - Fishing Licenses</th>\n",
       "    </tr>\n",
       "    <tr>\n",
       "      <th>State</th>\n",
       "      <th></th>\n",
       "      <th></th>\n",
       "      <th></th>\n",
       "      <th></th>\n",
       "      <th></th>\n",
       "      <th></th>\n",
       "      <th></th>\n",
       "    </tr>\n",
       "  </thead>\n",
       "  <tbody>\n",
       "    <tr>\n",
       "      <th>AK</th>\n",
       "      <td>469094</td>\n",
       "      <td>288560</td>\n",
       "      <td>418007</td>\n",
       "      <td>706567</td>\n",
       "      <td>5043814</td>\n",
       "      <td>15910856</td>\n",
       "      <td>20954670</td>\n",
       "    </tr>\n",
       "    <tr>\n",
       "      <th>AL</th>\n",
       "      <td>642754</td>\n",
       "      <td>535577</td>\n",
       "      <td>129425</td>\n",
       "      <td>665002</td>\n",
       "      <td>5287471</td>\n",
       "      <td>4293804</td>\n",
       "      <td>9581275</td>\n",
       "    </tr>\n",
       "    <tr>\n",
       "      <th>AR</th>\n",
       "      <td>488264</td>\n",
       "      <td>473174</td>\n",
       "      <td>192886</td>\n",
       "      <td>666060</td>\n",
       "      <td>4435832</td>\n",
       "      <td>3836349</td>\n",
       "      <td>8272181</td>\n",
       "    </tr>\n",
       "    <tr>\n",
       "      <th>AS</th>\n",
       "      <td>0</td>\n",
       "      <td>0</td>\n",
       "      <td>0</td>\n",
       "      <td>0</td>\n",
       "      <td>0</td>\n",
       "      <td>0</td>\n",
       "      <td>0</td>\n",
       "    </tr>\n",
       "    <tr>\n",
       "      <th>AZ</th>\n",
       "      <td>430754</td>\n",
       "      <td>356833</td>\n",
       "      <td>73921</td>\n",
       "      <td>430754</td>\n",
       "      <td>8987300</td>\n",
       "      <td>3443943</td>\n",
       "      <td>12431242</td>\n",
       "    </tr>\n",
       "  </tbody>\n",
       "</table>\n",
       "</div>"
      ],
      "text/plain": [
       "       Paid Fishing License Holders  Resident Fishing Licenses  \\\n",
       "State                                                            \n",
       "AK                           469094                     288560   \n",
       "AL                           642754                     535577   \n",
       "AR                           488264                     473174   \n",
       "AS                                0                          0   \n",
       "AZ                           430754                     356833   \n",
       "\n",
       "       Non-Resident Fishing Licenses  Total Fishing Licenses  \\\n",
       "State                                                          \n",
       "AK                            418007                  706567   \n",
       "AL                            129425                  665002   \n",
       "AR                            192886                  666060   \n",
       "AS                                 0                       0   \n",
       "AZ                             73921                  430754   \n",
       "\n",
       "       Cost - Resident Fishing Licenses  Cost - Non-Resident Fishing Licenses  \\\n",
       "State                                                                           \n",
       "AK                              5043814                              15910856   \n",
       "AL                              5287471                               4293804   \n",
       "AR                              4435832                               3836349   \n",
       "AS                                    0                                     0   \n",
       "AZ                              8987300                               3443943   \n",
       "\n",
       "       Total Cost - Fishing Licenses  \n",
       "State                                 \n",
       "AK                          20954670  \n",
       "AL                           9581275  \n",
       "AR                           8272181  \n",
       "AS                                 0  \n",
       "AZ                          12431242  "
      ]
     },
     "execution_count": 146,
     "metadata": {},
     "output_type": "execute_result"
    }
   ],
   "source": [
    "# Read an Excel file\n",
    "excel_path = './csv_example_files/fishing_licenses_2019.xlsx'\n",
    "exl_df = pd.read_excel(excel_path,\n",
    "                       sheet_name=\"Page1\",\n",
    "                       header=4,\n",
    "                       index_col=0)\n",
    "\n",
    "exl_df.head()"
   ]
  },
  {
   "cell_type": "markdown",
   "metadata": {},
   "source": [
    "## Bonus: Command Line Analysis\n",
    "\n",
    "If you need quick information about a CSV file, you don't even need Python! You can combine a few standard commands:\n",
    "\n",
    "- See how many rows are in a file (this will include the header row in the count):\n",
    "\n",
    "```bash\n",
    "cat my_file.csv | wc -l\n",
    "```\n",
    "\n",
    "- Combine header and data files (if they're saved separately):\n",
    "\n",
    "```bash\n",
    "cat my_headers.csv my_data.csv > my_data_headers.csv\n",
    "```\n",
    "\n",
    "- Create a (continuous) subset of data - this example assumes a header is in row 1, then takes 100 observations starting at 500:\n",
    "\n",
    "```bash\n",
    "head -n 601 my_file.csv | tail -n 100 > rows_501-601.csv\n",
    "```\n",
    "\n",
    "- Count unique values in a column - the `-d` option is to specify the delimiter, the `-f` option is which field (or column) to cut, which is the third one in the example:\n",
    "\n",
    "```bash\n",
    "cut -d \",\" -f 3 my_file.csv | sort | uniq -c\n",
    "```"
   ]
  }
 ],
 "metadata": {
  "kernelspec": {
   "display_name": "Python 3",
   "language": "python",
   "name": "python3"
  },
  "language_info": {
   "codemirror_mode": {
    "name": "ipython",
    "version": 3
   },
   "file_extension": ".py",
   "mimetype": "text/x-python",
   "name": "python",
   "nbconvert_exporter": "python",
   "pygments_lexer": "ipython3",
   "version": "3.7.3"
  }
 },
 "nbformat": 4,
 "nbformat_minor": 2
}
